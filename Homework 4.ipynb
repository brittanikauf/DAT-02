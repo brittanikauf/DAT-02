{
 "cells": [
  {
   "cell_type": "markdown",
   "metadata": {},
   "source": [
    "Hypothesis: According to research, 71.6% of consumers admit to buying something after their normal bedtime in the past year, and 60% said they have made an online purchase between midnight and 4 a.m., according to a survey conducted for EachNight.com, which describes itself as \"an educational resource that aims to provide readers with research on a variety of sleep topics to help them sleep better.\" We think this is true and want to prove this using Instacart data!"
   ]
  },
  {
   "cell_type": "code",
   "execution_count": 84,
   "metadata": {},
   "outputs": [],
   "source": [
    "import numpy as np\n",
    "import pandas as pd\n",
    "import matplotlib as plt\n",
    "import seaborn as sns"
   ]
  },
  {
   "cell_type": "code",
   "execution_count": 85,
   "metadata": {},
   "outputs": [],
   "source": [
    "%matplotlib inline"
   ]
  },
  {
   "cell_type": "code",
   "execution_count": 86,
   "metadata": {},
   "outputs": [
    {
     "data": {
      "text/plain": [
       "'C:\\\\Users\\\\elyse\\\\Desktop\\\\DAT\\\\Homework\\\\Unit4\\\\Instacart_Data'"
      ]
     },
     "execution_count": 86,
     "metadata": {},
     "output_type": "execute_result"
    }
   ],
   "source": [
    "pwd"
   ]
  },
  {
   "cell_type": "code",
   "execution_count": null,
   "metadata": {},
   "outputs": [],
   "source": [
    "#load in datasets\n",
    "order_products_train = pd.read_csv(\"order_products__train.csv\")\n",
    "order_products_prior = pd.read_csv(\"order_products__prior.csv\")\n",
    "orders = pd.read_csv(\"orders.csv\")\n",
    "products = pd.read_csv(\"products.csv\")\n",
    "aisles = pd.read_csv(\"aisles.csv\")\n",
    "departments = pd.read_csv(\"departments.csv\")"
   ]
  },
  {
   "cell_type": "code",
   "execution_count": null,
   "metadata": {},
   "outputs": [],
   "source": [
    "#exploratory data analysis #what do the dataframes look like?\n",
    "print(order_products_train.shape)\n",
    "order_products_train.head()"
   ]
  },
  {
   "cell_type": "code",
   "execution_count": null,
   "metadata": {},
   "outputs": [],
   "source": [
    "print(order_products_prior.shape)\n",
    "order_products_prior.head()"
   ]
  },
  {
   "cell_type": "code",
   "execution_count": null,
   "metadata": {},
   "outputs": [],
   "source": [
    "print(orders.shape)\n",
    "orders.head()"
   ]
  },
  {
   "cell_type": "code",
   "execution_count": null,
   "metadata": {},
   "outputs": [],
   "source": [
    "print(products.shape)\n",
    "products.head()"
   ]
  },
  {
   "cell_type": "code",
   "execution_count": null,
   "metadata": {},
   "outputs": [],
   "source": [
    "print(aisles.shape)\n",
    "aisles.head()"
   ]
  },
  {
   "cell_type": "code",
   "execution_count": null,
   "metadata": {},
   "outputs": [],
   "source": [
    "print(departments.shape)\n",
    "departments.head()"
   ]
  },
  {
   "cell_type": "code",
   "execution_count": null,
   "metadata": {},
   "outputs": [],
   "source": [
    "#merging department and products dataframes\n",
    "departments_products = pd.merge(departments, products, on='department_id', how='left')\n",
    "departments_products.head()"
   ]
  },
  {
   "cell_type": "code",
   "execution_count": null,
   "metadata": {},
   "outputs": [],
   "source": [
    "#combining past orders and last orders to get complete order list\n",
    "order_products_total = pd.concat([order_products_train, order_products_prior], axis=0)\n",
    "order_products_total.head()"
   ]
  },
  {
   "cell_type": "code",
   "execution_count": null,
   "metadata": {},
   "outputs": [],
   "source": [
    "#combining order data with department data to get final dataset\n",
    "orders_prod_departments_all = pd.merge(departments_products, order_products_total, on='product_id', how='left')\n",
    "orders_prod_departments_all.head()"
   ]
  },
  {
   "cell_type": "code",
   "execution_count": null,
   "metadata": {},
   "outputs": [],
   "source": [
    "#exploring final dataset\n",
    "orders_prod_departments_all.shape"
   ]
  },
  {
   "cell_type": "code",
   "execution_count": 83,
   "metadata": {},
   "outputs": [],
   "source": [
    "#removing missing data/null values\n"
   ]
  }
 ],
 "metadata": {
  "kernelspec": {
   "display_name": "Python 3",
   "language": "python",
   "name": "python3"
  },
  "language_info": {
   "codemirror_mode": {
    "name": "ipython",
    "version": 3
   },
   "file_extension": ".py",
   "mimetype": "text/x-python",
   "name": "python",
   "nbconvert_exporter": "python",
   "pygments_lexer": "ipython3",
   "version": "3.7.4"
  }
 },
 "nbformat": 4,
 "nbformat_minor": 2
}
